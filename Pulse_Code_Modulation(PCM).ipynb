{
  "nbformat": 4,
  "nbformat_minor": 0,
  "metadata": {
    "colab": {
      "name": "Pulse_Code_Modulation(PCM).ipynb",
      "provenance": [],
      "collapsed_sections": [],
      "authorship_tag": "ABX9TyPwxztINQ7zTGReLR86cUln"
    },
    "kernelspec": {
      "name": "python3",
      "display_name": "Python 3"
    },
    "language_info": {
      "name": "python"
    }
  },
  "cells": [
    {
      "cell_type": "markdown",
      "metadata": {
        "id": "vJs5n7ifZuy4"
      },
      "source": [
        "**Registration No: 2016331020**"
      ]
    },
    {
      "cell_type": "markdown",
      "metadata": {
        "id": "gncZyRYjwBbp"
      },
      "source": [
        "**A program to simulate the analog-digital signal using Pulse Code Modulation.**"
      ]
    },
    {
      "cell_type": "markdown",
      "metadata": {
        "id": "z_WPfS7byfl7"
      },
      "source": [
        "*The most common technique to change an analog signal to digital data (digitization) is called **pulse code modulation (PCM)**. A PCM encoder has three processes:*\n",
        "\n",
        "\n",
        "1. The analog signal is sampled.\n",
        "2. The sampled signal is quantized.\n",
        "3. The quantized values are encoded as streams of bits.\n",
        "\n"
      ]
    },
    {
      "cell_type": "markdown",
      "metadata": {
        "id": "QjcqyHnG4Vvp"
      },
      "source": [
        "*References:*\n",
        "\n",
        "1. [Analog-to-Digital](https://courses.engr.illinois.edu/ece110/sp2021/content/courseNotes/files/?samplingAndQuantization)"
      ]
    },
    {
      "cell_type": "code",
      "metadata": {
        "id": "bL5Drs2BvlNS"
      },
      "source": [
        "# import necessary library\n",
        "import numpy as np\n",
        "import matplotlib.pyplot as plt\n",
        "import math"
      ],
      "execution_count": null,
      "outputs": []
    },
    {
      "cell_type": "markdown",
      "metadata": {
        "id": "4AW7dvw-wzl9"
      },
      "source": [
        "**The signal we're going to work with has following equation:**\n",
        "\n",
        "$$ v(t)=Acos(2πft) $$"
      ]
    },
    {
      "cell_type": "code",
      "metadata": {
        "colab": {
          "base_uri": "https://localhost:8080/",
          "height": 265
        },
        "id": "jiIEKuLOwyyk",
        "outputId": "e85354e8-54f2-48c7-9a64-15f9a1bafb4e"
      },
      "source": [
        "# create the signal with their basic properties like amplitude, frequency and time\n",
        "'''\n",
        "A - Amplitude of the signal\n",
        "f - Frequency of the signal\n",
        "t - Time variable of the signal\n",
        "T - Time period of the signal\n",
        "'''\n",
        "A = 8                           \n",
        "f = 2\n",
        "T = 1 / f\n",
        "t = np.linspace(0, 2.0, 120)\n",
        "x = A * np.cos(2.0 * np.pi * f * t)\n",
        "plt.plot(t, x)\n",
        "plt.show()"
      ],
      "execution_count": null,
      "outputs": [
        {
          "output_type": "display_data",
          "data": {
            "image/png": "[encoded data removed]",
            "text/plain": [
              "<Figure size 432x288 with 1 Axes>"
            ]
          },
          "metadata": {
            "needs_background": "light"
          }
        }
      ]
    },
    {
      "cell_type": "markdown",
      "metadata": {
        "id": "0FOEnAB3zBjc"
      },
      "source": [
        "**>>>>> Process 1 - Sampling**\n",
        "\n",
        "> Recording an analog signal at evenly spaced instants in time creates samples.\n",
        "\n",
        "Say, the signal $v(t)=cos(2πft)$ is sampled uniformly with n sampling intervals within each signal period T.\n",
        "\n",
        ">> Sampling is the process of recording an analog signal at regular discrete moments of time.The sampling rate $fs$ is the number of samples per second. The time interval between samples is called the sampling interval $Ts=1/fs$. \n",
        "\n",
        ">>If a signal $v(t)=cos(2πft)$ is uniormly sampled at $n$ (number of sample per interval) over a time period $T$, then the sampling interval $Ts=T/n$ and the sampling rate $fs=nf$. \n",
        "$$Ts = T/n = 1/nf$$\n",
        "$$Ts = 1/fs$$\n",
        "$$fs = nf$$\n",
        "\n",
        ">> The sampled signal of the analog signal $v(t)$ is expressed by $v[n]$, where $n$ is the index of the samples.\n",
        "\n",
        ">> When $n=0$ sample is taken from the $t=0$ time point of the analog signal\n",
        ">> When $n=1$ sample must come from the $t=Ts$ time point, because $Ts$ is the sampling interval.\n",
        "\n",
        ">> So, the sequence of samples can be written as $v[0]=v(0)$, $v[1]=v(Ts)$, $v[2]=v(2Ts)$, and so on.<br/>\n",
        "\n",
        "\n",
        "So,\n",
        "$$v[n]=v(nTs)$$\n",
        "\n",
        "\n"
      ]
    },
    {
      "cell_type": "code",
      "metadata": {
        "colab": {
          "base_uri": "https://localhost:8080/",
          "height": 319
        },
        "id": "g03FncyTwLb0",
        "outputId": "f9137099-f3c0-4655-ff6b-e2fc81d224fd"
      },
      "source": [
        "'''\n",
        "\n",
        "n = number_of_sample_per_interval\n",
        "fs = sampling rate\n",
        "ts = sampling interval\n",
        "\n",
        "'''\n",
        "\n",
        "n = 18\n",
        "fs = n * f\n",
        "ts=np.arange(0, 2, 1 / fs)\n",
        "xs=A*np.cos(2*np.pi*f*ts);\n",
        "# xs Sampled signal \n",
        "plt.stem(ts, xs)\n",
        "plt.show()"
      ],
      "execution_count": null,
      "outputs": [
        {
          "output_type": "stream",
          "name": "stderr",
          "text": [
            "/usr/local/lib/python3.7/dist-packages/ipykernel_launcher.py:14: UserWarning: In Matplotlib 3.3 individual lines on a stem plot will be added as a LineCollection instead of individual lines. This significantly improves the performance of a stem plot. To remove this warning and switch to the new behaviour, set the \"use_line_collection\" keyword argument to True.\n",
            "  \n"
          ]
        },
        {
          "output_type": "display_data",
          "data": {
            "image/png": "[encoded data removed]",
            "text/plain": [
              "<Figure size 432x288 with 1 Axes>"
            ]
          },
          "metadata": {
            "needs_background": "light"
          }
        }
      ]
    },
    {
      "cell_type": "markdown",
      "metadata": {
        "id": "baARIX2W8qO0"
      },
      "source": [
        "**>>>>> Process 2 - Quantization**\n",
        "\n",
        "> Quantizing samples to levels and then to sequences of bits leads to quantization error.\n",
        "\n",
        ">> The result of sampling is a series of pulses with amplitude values between the maximum and minimum amplitudes of the signal. Because of the sampled values can potentially take on a continuous range of values, these values cannot be used in the encoding\n",
        "process.\n",
        "\n",
        ">>In analog to digital conversion, each sample value is mapped to a discrete level (represented by a sequence of bits). This is known as the **Quantization** process.\n",
        "\n",
        ">> In a $B-bit$ quantizer, each quantization level is represented with $B$ bits, so that the number of levels equals $L = 2^B$\n",
        "\n",
        "*The following are the steps in quantization:*\n",
        "1. We assume that the original analog signal has instantaneous amplitudes between $Vmin$ and $Vmax$\n",
        "2. We divide the amplitude range into L zones, each of height $\\Delta$ (delta).\n",
        "$$\\Delta = \\frac{Vmax - Vmin}{L}$$\n",
        "3. We assign quantized values of 0 to $L - 1$ to the midpoint of each level zone.\n",
        "4. We approximate the value of the sample amplitude to the quantized values.\n",
        "\n",
        ">> If we decide to have eight levels (b-bit = 3, L = 8, height = $\\Delta$), then our partitioned amplitude will be from $-4\\Delta$ to $4\\Delta$.\n",
        "\n",
        ">>As the quantized value is the midpoint of each level zone, \n",
        "* the value between $4\\Delta$ and $3\\Delta$ will be quantized into their midpoint, $3\\Delta$+${\\Delta/2}$, also assigned the encode value 7.\n",
        "* the value between $3\\Delta$ and $3\\Delta$ will be quantized into their midpoint, $2\\Delta$+${\\Delta/2}$, also assigned the encode value 6. and so on...\n",
        "\n",
        "\n",
        "\n",
        "| Quantized codec | Normalized Amplitude| Quantized value       |\n",
        "|-----------------|---------------------|-----------------------|\n",
        "|                 |       $4\\Delta$     |                       | \n",
        "|       7         |                     | $3\\Delta$+${\\Delta/2}$|\n",
        "|                 |       $3\\Delta$     |\n",
        "|       6         |                     | $2\\Delta$+${\\Delta/2}$|\n",
        "|                 |       $2\\Delta$     |\n",
        "|       5         |                     | $\\Delta$+${\\Delta/2}$ |\n",
        "|                 |        $\\Delta$     |\n",
        "|       4         |                     |      ${\\Delta/2}$     |\n",
        "|                 |       0             |\n",
        "|       3         |                     | $-\\Delta$+${\\Delta/2}$|\n",
        "|                 |       $-\\Delta$     |\n",
        "|       2         |                     |$-2\\Delta$+${\\Delta/2}$|\n",
        "|                 |       $-2\\Delta$    |\n",
        "|       1         |                     |$-3\\Delta$+${\\Delta/2}$|\n",
        "|                 |       $-3\\Delta$    |\n",
        "|       0         |                     |$-4\\Delta$+${\\Delta/2}$|\n",
        "|                 |       $-4\\Delta$    |\n",
        "|-----------------|---------------------|-----------------------|\n",
        "\n",
        "###To find midpoint of each level zone(for assigning these midpoint as quantized value):\n",
        "1. Partition/divide the amplitude range with height $\\Delta$\n",
        "2. Decrease each of the parition value by ${\\Delta/2}$ (called codebook)\n",
        "3. Assign the numbers in each interval of the codebook to the corresponding partition number(quantized value). \n",
        "4. To make quantize value inbetween the levels, increased each quantized value by ${\\Delta/2}$\n",
        "\n"
      ]
    },
    {
      "cell_type": "code",
      "metadata": {
        "colab": {
          "base_uri": "https://localhost:8080/",
          "height": 302
        },
        "id": "Li-opfbICHpP",
        "outputId": "5dfe0d76-aadf-49e1-9ea0-c3489595de4a"
      },
      "source": [
        "\n",
        "'''\n",
        "\n",
        "b_bit = b-bit quantizer, number of bits required to encode each quantization level. \n",
        "L = uniformly spaced quantization levels\n",
        "partition = level are between vmin and vmax with difference of delta\n",
        "codebook = decrease the partition by half of delta\n",
        "xq = quantized signal\n",
        "encode = assigned codec\n",
        "\n",
        "'''\n",
        "b_bit = 3\n",
        "L = 2 ** b_bit\n",
        "vmax=A;\n",
        "vmin=-vmax;\n",
        "delta=(vmax-vmin)/L;\n",
        "partition = np.arange(vmin, vmax, delta)\n",
        "codebook= np.arange(vmin-(delta/2),vmax+(delta/2), delta) \n",
        "\n",
        "xq = np.copy(xs)\n",
        "encode = np.copy(xs)\n",
        "\n",
        "for i in range(len(partition)):\n",
        "  left = codebook[i]\n",
        "  right = codebook[i + 1]\n",
        "  for j in range(len(xs)):\n",
        "    # left <= xs[i] < right\n",
        "    if(i != len(partition) - 1 and left <= xs[j] and xs[j] < right):\n",
        "      xq[j] = partition[i]\n",
        "      encode[j] = i\n",
        "    # left <= xs[i], only for last portion\n",
        "    if(i == len(partition) - 1 and left <= xs[j]):\n",
        "      xq[j] = partition[i]\n",
        "      encode[j] = i\n",
        "\n",
        "for i in range(len(xq)):\n",
        "    xq[i] = xq[i] + (delta / 2) \n",
        "\n",
        "plt.stem(ts, xq)\n",
        "plt.show()\n"
      ],
      "execution_count": null,
      "outputs": [
        {
          "output_type": "stream",
          "name": "stderr",
          "text": [
            "/usr/local/lib/python3.7/dist-packages/ipykernel_launcher.py:39: UserWarning: In Matplotlib 3.3 individual lines on a stem plot will be added as a LineCollection instead of individual lines. This significantly improves the performance of a stem plot. To remove this warning and switch to the new behaviour, set the \"use_line_collection\" keyword argument to True.\n"
          ]
        },
        {
          "output_type": "display_data",
          "data": {
            "image/png": "[encoded data removed]",
            "text/plain": [
              "<Figure size 432x288 with 1 Axes>"
            ]
          },
          "metadata": {
            "needs_background": "light"
          }
        }
      ]
    },
    {
      "cell_type": "markdown",
      "metadata": {
        "id": "C8r6fSouTcWN"
      },
      "source": [
        "**>>>>> Process 3 - Encoding**\n",
        "\n",
        "1. Convert the assigned decimal codec to the binary codec\n",
        "2. Append all the binary codec into an array of 0 and 1.\n",
        "3. plot a step graph"
      ]
    },
    {
      "cell_type": "code",
      "metadata": {
        "colab": {
          "base_uri": "https://localhost:8080/",
          "height": 320
        },
        "id": "mnffXazBTfLO",
        "outputId": "11acde5c-3dfb-4c5d-814e-4d259d5f0df3"
      },
      "source": [
        "def decimalToBinary(val, bit):\n",
        "    binary = \"{0:b}\".format(int(val))\n",
        "    if(len(binary) > bit):\n",
        "      return binary\n",
        "    extra_zero = bit - len(binary)\n",
        "    return extra_zero * \"0\" + binary\n",
        "\n",
        "binary_codec = []\n",
        "for i in range(len(encode)):\n",
        "  binary = decimalToBinary(encode[i], b_bit)\n",
        "  for j in range(len(binary)):\n",
        "    binary_codec.append(binary[j])\n",
        "\n",
        "pos = np.arange(len(binary_codec))\n",
        "plt.figure(figsize=(20, 5))\n",
        "plt.ylim(-1, 2)\n",
        "plt.step(pos, binary_codec)\n",
        "plt.show()"
      ],
      "execution_count": null,
      "outputs": [
        {
          "output_type": "display_data",
          "data": {
            "image/png": "[encoded data removed]",
            "text/plain": [
              "<Figure size 1440x360 with 1 Axes>"
            ]
          },
          "metadata": {
            "needs_background": "light"
          }
        }
      ]
    },
    {
      "cell_type": "markdown",
      "metadata": {
        "id": "24pCt8fVVRAm"
      },
      "source": [
        "**Thanks**"
      ]
    }
  ]
}