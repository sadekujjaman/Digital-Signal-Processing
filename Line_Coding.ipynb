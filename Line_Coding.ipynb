{
  "nbformat": 4,
  "nbformat_minor": 0,
  "metadata": {
    "colab": {
      "name": "Line_Coding.ipynb",
      "provenance": [],
      "collapsed_sections": [],
      "authorship_tag": "ABX9TyPva0OEj2Tt5oUEMCG2UiTs"
    },
    "kernelspec": {
      "name": "python3",
      "display_name": "Python 3"
    },
    "language_info": {
      "name": "python"
    }
  },
  "cells": [
    {
      "cell_type": "code",
      "metadata": {
        "id": "Uz_No5KiiVUY"
      },
      "source": [
        "# import necessary library\n",
        "import numpy as np\n",
        "import matplotlib.pyplot as plt\n",
        "import math"
      ],
      "execution_count": 1,
      "outputs": []
    },
    {
      "cell_type": "markdown",
      "metadata": {
        "id": "ezlNvcvumI7y"
      },
      "source": [
        "###References\n",
        "1. [Line-coding-technique](https://www.mathworks.com/matlabcentral/fileexchange/41995-line-coding-techniques)\n",
        "2. [Line-coding-matlab](https://manikarea.home.blog/2019/09/13/unipolar-line-coding-with-matlab-source-code-for-encoding-and-decoding/)\n"
      ]
    },
    {
      "cell_type": "markdown",
      "metadata": {
        "id": "CCgV5ZXIkdEG"
      },
      "source": [
        "**Line Coding Encoding**"
      ]
    },
    {
      "cell_type": "code",
      "metadata": {
        "colab": {
          "base_uri": "https://localhost:8080/",
          "height": 265
        },
        "id": "X8SWbaMETFRk",
        "outputId": "eb2e3d97-c2e6-4215-82a2-71b2e09c0d24"
      },
      "source": [
        "'''\n",
        "\n",
        "bits      -      Digital data elements(input bits row vector)\n",
        "Time      -      Time period for sending 1 data elements\n",
        "bit_rate  -      Bit rate(the number of data elements(bits) sent in 1s)\n",
        "Fs        -      Sampling Rate\n",
        "N         -      Bit Length of input bits\n",
        "T         -      Interval of bit time period\n",
        "x         -      Line coding row vector\n",
        "t         -      Time vector for N bits\n",
        "'''\n",
        "\n",
        "bits = np.array([1, 0, 1, 1, 0, 1, 0, 0, 1, 0, 1]) \n",
        "Time = 10e-6   \n",
        "bit_rate = 1/Time  \n",
        "Fs = 4*bit_rate;    \n",
        "N = len(bits)   \n",
        "T = np.linspace(0,Time,100)\n",
        "\n",
        "x = np.array([]);\n",
        "for i in range(N):\n",
        "  temp = bits[i]* np.ones(len(T))\n",
        "  x = np.append(x, temp);\n",
        "t = np.linspace(0,N*Time,len(x))\n",
        "\n",
        "plt.plot(t, x)\n",
        "plt.show()"
      ],
      "execution_count": 77,
      "outputs": [
        {
          "output_type": "display_data",
          "data": {
            "image/png": "[encoded data removed]",
            "text/plain": [
              "<Figure size 432x288 with 1 Axes>"
            ]
          },
          "metadata": {
            "needs_background": "light"
          }
        }
      ]
    },
    {
      "cell_type": "markdown",
      "metadata": {
        "id": "uQmibmXIkVfM"
      },
      "source": [
        "**Line Coding Decoding**"
      ]
    },
    {
      "cell_type": "code",
      "metadata": {
        "colab": {
          "base_uri": "https://localhost:8080/"
        },
        "id": "EWeHgGcSjeyw",
        "outputId": "cfb300c1-b56e-4a2e-b886-a15e6a0b51f3"
      },
      "source": [
        "'''\n",
        "x         -       Signal element(Line coding row vector)\n",
        "t         -       Time vector for N bits\n",
        "bit_rate  -       Bit rate(the number of data elements(bits) sent in 1s)\n",
        "result    -       Data element\n",
        "\n",
        "'''\n",
        "result = []\n",
        "counter = 0;\n",
        "for i in range(len(t)):\n",
        "  if t[i]*bit_rate > counter:\n",
        "    counter = counter + 1\n",
        "    result.append(int(x[i]))\n",
        "\n",
        "print(result)"
      ],
      "execution_count": 78,
      "outputs": [
        {
          "output_type": "stream",
          "name": "stdout",
          "text": [
            "[1, 0, 1, 1, 0, 1, 0, 0, 1, 0, 1]\n"
          ]
        }
      ]
    }
  ]
}