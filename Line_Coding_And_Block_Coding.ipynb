{
  "nbformat": 4,
  "nbformat_minor": 0,
  "metadata": {
    "colab": {
      "name": "Line_Coding_And_Block_Coding.ipynb",
      "provenance": [],
      "collapsed_sections": [],
      "authorship_tag": "ABX9TyPNX00Fpr+nRWa0dZCE9MLM"
    },
    "kernelspec": {
      "name": "python3",
      "display_name": "Python 3"
    },
    "language_info": {
      "name": "python"
    }
  },
  "cells": [
    {
      "cell_type": "code",
      "metadata": {
        "id": "Uz_No5KiiVUY"
      },
      "source": [
        "# import necessary library\n",
        "import numpy as np\n",
        "import matplotlib.pyplot as plt\n",
        "import math"
      ],
      "execution_count": 1,
      "outputs": []
    },
    {
      "cell_type": "markdown",
      "metadata": {
        "id": "ezlNvcvumI7y"
      },
      "source": [
        "###References\n",
        "1. [Line-coding-technique](https://www.mathworks.com/matlabcentral/fileexchange/41995-line-coding-techniques)\n",
        "2. [Line-coding-matlab](https://manikarea.home.blog/2019/09/13/unipolar-line-coding-with-matlab-source-code-for-encoding-and-decoding/)\n",
        "3. [Block-coding-technique](https://datacommandnet.blogspot.com/p/block-coding.html)"
      ]
    },
    {
      "cell_type": "markdown",
      "metadata": {
        "id": "9KOj3vBunaeo"
      },
      "source": [
        "#**Line Coding**"
      ]
    },
    {
      "cell_type": "markdown",
      "metadata": {
        "id": "CCgV5ZXIkdEG"
      },
      "source": [
        "###**Line Coding Encoding - Unipolar - Non Return to Zero(NRZ)**"
      ]
    },
    {
      "cell_type": "code",
      "metadata": {
        "colab": {
          "base_uri": "https://localhost:8080/",
          "height": 265
        },
        "id": "X8SWbaMETFRk",
        "outputId": "eb2e3d97-c2e6-4215-82a2-71b2e09c0d24"
      },
      "source": [
        "'''\n",
        "\n",
        "bits      -      Digital data elements(input bits row vector)\n",
        "Time      -      Time period for sending 1 data elements\n",
        "bit_rate  -      Bit rate(the number of data elements(bits) sent in 1s)\n",
        "Fs        -      Sampling Rate\n",
        "N         -      Bit Length of input bits\n",
        "T         -      Interval of bit time period\n",
        "x         -      Line coding row vector\n",
        "t         -      Time vector for N bits\n",
        "'''\n",
        "\n",
        "bits = np.array([1, 0, 1, 1, 0, 1, 0, 0, 1, 0, 1]) \n",
        "Time = 10e-6   \n",
        "bit_rate = 1/Time  \n",
        "Fs = 4*bit_rate    \n",
        "N = len(bits)   \n",
        "T = np.linspace(0,Time,100)\n",
        "\n",
        "x = np.array([])\n",
        "for i in range(N):\n",
        "  temp = bits[i]* np.ones(len(T))\n",
        "  x = np.append(x, temp)\n",
        "t = np.linspace(0,N*Time,len(x))\n",
        "\n",
        "plt.plot(t, x)\n",
        "plt.show()"
      ],
      "execution_count": 77,
      "outputs": [
        {
          "output_type": "display_data",
          "data": {
            "image/png": "[encoded data removed]",
            "text/plain": [
              "<Figure size 432x288 with 1 Axes>"
            ]
          },
          "metadata": {
            "needs_background": "light"
          }
        }
      ]
    },
    {
      "cell_type": "markdown",
      "metadata": {
        "id": "uQmibmXIkVfM"
      },
      "source": [
        "###**Line Coding Decoding - Unipolar - Non Return to Zero(NRZ)**"
      ]
    },
    {
      "cell_type": "code",
      "metadata": {
        "colab": {
          "base_uri": "https://localhost:8080/"
        },
        "id": "EWeHgGcSjeyw",
        "outputId": "cfb300c1-b56e-4a2e-b886-a15e6a0b51f3"
      },
      "source": [
        "'''\n",
        "x         -       Signal element(Line coding row vector)\n",
        "t         -       Time vector for N bits\n",
        "bit_rate  -       Bit rate(the number of data elements(bits) sent in 1s)\n",
        "result    -       Data element\n",
        "\n",
        "'''\n",
        "result = []\n",
        "counter = 0\n",
        "for i in range(len(t)):\n",
        "  if t[i]*bit_rate > counter:\n",
        "    counter = counter + 1\n",
        "    result.append(int(x[i]))\n",
        "\n",
        "print(result)"
      ],
      "execution_count": 78,
      "outputs": [
        {
          "output_type": "stream",
          "name": "stdout",
          "text": [
            "[1, 0, 1, 1, 0, 1, 0, 0, 1, 0, 1]\n"
          ]
        }
      ]
    },
    {
      "cell_type": "markdown",
      "metadata": {
        "id": "U0d4-fE4nS8B"
      },
      "source": [
        "#**Block Coding**"
      ]
    },
    {
      "cell_type": "markdown",
      "metadata": {
        "id": "TDknbBNqDkeW"
      },
      "source": [
        "###**Block Coding($mB/nB$ Coding)**\n",
        ">block coding changes a block of $m$ bits into a block of $n$ bits, where $n$ is larger than $m$. ($n > m$).\n",
        "\n",
        ">> Block Coding \n",
        ">>>$mB/nB$ coding\n",
        ">>>>It replaces each $m-bit$ group with an $n-bit$ group.\n",
        "\n",
        "\n",
        "**Steps:**\n",
        "1. Division: a sequence of bits is divided into groups of $m$ bits. For example, in $4B/5B$ encoding, the original bit sequence is divided into $4-bit$ groups.\n",
        "\n",
        "2. Substitution: Substitute an $m-bit$ group for an $n-bit$ group. For example, in $4B/5B$ encoding we substitute a $4-bit$ code for a $5-bit$ group.\n",
        "\n",
        "3. Combination: The $n-bit$ groups are combined together to form a new stream of bits. The new stream has more bits than the original bits.\n",
        "\n",
        "$Example(4B/5B):$<br/>\n",
        "Input bits = $[1, 0, 0, 1, 0, 1, 0, 1]$<br/>\n",
        "Division   = $[1, 0, 0, 1],[0, 1, 0, 1]$<br/>\n",
        "Substitution = $[1, 0, 0, 1, 1],[0, 1, 0, 1, 1]$<br/>\n",
        "Combination = $[1, 0, 0, 1, 1, 0, 1, 0, 1, 1]$<br/>\n",
        "Output bits = $[1, 0, 0, 1, 1, 0, 1, 0, 1, 1]$<br/>\n"
      ]
    },
    {
      "cell_type": "markdown",
      "metadata": {
        "id": "kJ57ADrOHIFb"
      },
      "source": [
        "####**Block coding $4B/5B$ with $NRZ-I$ line coding scheme**\n",
        "\n",
        "**5 Major Steps:**\n",
        "1. $4B/5B$ encoding\n",
        "2. $NRZ-I$ encoding\n",
        "3. Digital Signal\n",
        "4. $NRZ-I$ decoding\n",
        "5. $4B/5B$ decoding"
      ]
    },
    {
      "cell_type": "markdown",
      "metadata": {
        "id": "rErV1sWSIKw8"
      },
      "source": [
        "**Mapping Codes**"
      ]
    },
    {
      "cell_type": "code",
      "metadata": {
        "id": "zhUv_Q-Zw86z"
      },
      "source": [
        "mB = 4\n",
        "nB = 5\n",
        "block_coding_mapping_codes = {\n",
        "# encoding map\n",
        "\"0000\": \"11110\",\n",
        "\"0001\": \"01001\",\n",
        "\"0010\": \"10100\",\n",
        "\"0011\": \"10101\",\n",
        "\"0100\": \"01010\",\n",
        "\"0101\": \"01011\",\n",
        "\"0110\": \"01110\",\n",
        "\"0111\": \"01111\",\n",
        "\"1000\": \"10010\",\n",
        "\"1001\": \"10011\",\n",
        "\"1010\": \"10110\",\n",
        "\"1011\": \"10111\",\n",
        "\"1100\": \"11010\",\n",
        "\"1101\": \"11011\",\n",
        "\"1110\": \"11100\",\n",
        "\"1111\": \"11101\",\n",
        "# decoding map\n",
        "\"11110\": \"0000\",\n",
        "\"01001\": \"0001\",\n",
        "\"10100\": \"0010\",\n",
        "\"10101\": \"0011\",\n",
        "\"01010\": \"0100\",\n",
        "\"01011\": \"0101\",\n",
        "\"01110\": \"0110\",\n",
        "\"01111\": \"0111\",\n",
        "\"10010\": \"1000\",\n",
        "\"10011\": \"1001\",\n",
        "\"10110\": \"1010\",\n",
        "\"10111\": \"1011\",\n",
        "\"11010\": \"1100\",\n",
        "\"11011\": \"1101\",\n",
        "\"11100\": \"1110\",\n",
        "\"11101\": \"1111\",\n",
        "\n",
        "}\n",
        "\n",
        "def get_Mapping_Codes(bits):\n",
        "  return block_coding_mapping_codes[\"\".join(map(str, bits))]\n",
        "  \n",
        "'''\n",
        "bits = sequence of bits to encoded using mB/nB\n",
        "'''\n",
        "def get_MB_NB_Encoding(bits, mB, nB):\n",
        "  # If the length of bits is not multiple of mB, appends extra 0's at the end of the bits(optional)\n",
        "  if len(bits) % mB != 0:\n",
        "    # Necessary bit count to make it multiple of mB\n",
        "    extra_len = (((len(bits)// mB) + 1) * mB) - len(bits)\n",
        "    extra = np.array(np.zeros(extra_len), dtype=int)\n",
        "    bits = np.append(bits, extra)\n",
        "  \n",
        "  encoded_bits_str = \"\"\n",
        "  for i in range(0, len(bits), mB):\n",
        "    encoded_bits_str += get_Mapping_Codes(bits[i:i+mB])\n",
        "  \n",
        "  # Convert the encoded bit string to list of bits\n",
        "  encoded_bits_list = list(encoded_bits_str)\n",
        "  encoded_bits_map = map(int, encoded_bits_list)\n",
        "  encoded_bits = np.array(list(encoded_bits_map))\n",
        "  return encoded_bits\n",
        "\n",
        "'''\n",
        "bits = sequence of bits to decoded using mB/nB\n",
        "'''\n",
        "def get_NB_MB_Decoding(bits, mB, nB):\n",
        "  if len(bits) % nB != 0:\n",
        "    print(\"Invalid length, Decoding Not possible!\")\n",
        "    return\n",
        "  decoded_bits_str = \"\"\n",
        "  for i in range(0, len(bits), nB):\n",
        "    decoded_bits_str += get_Mapping_Codes(bits[i:i+nB])\n",
        "  # Convert the decoded bit string to list of bits\n",
        "  decoded_bits_list = list(decoded_bits_str)\n",
        "  decoded_bits_map = map(int, decoded_bits_list)\n",
        "  decoded_bits = np.array(list(decoded_bits_map))\n",
        "  return decoded_bits\n"
      ],
      "execution_count": 155,
      "outputs": []
    },
    {
      "cell_type": "markdown",
      "metadata": {
        "id": "iC7gkwCEKC2W"
      },
      "source": [
        "**$4B/5B$ Encoding**"
      ]
    },
    {
      "cell_type": "code",
      "metadata": {
        "id": "TZAXu0oTKI1c"
      },
      "source": [
        "bits = np.array([1, 0, 1, 1, 0, 1, 0, 0, 1, 0, 1], dtype=int) \n",
        "bits = get_MB_NB_Encoding(bits, mB, nB)"
      ],
      "execution_count": 156,
      "outputs": []
    },
    {
      "cell_type": "markdown",
      "metadata": {
        "id": "qOyQZXbKJxqL"
      },
      "source": [
        "**$NRZ-I$ Line Coding Encoding**"
      ]
    },
    {
      "cell_type": "code",
      "metadata": {
        "colab": {
          "base_uri": "https://localhost:8080/",
          "height": 265
        },
        "id": "Rs5-rwGyzOAI",
        "outputId": "c4a45d02-b8b4-4790-8175-0d2887fffb74"
      },
      "source": [
        "'''\n",
        "\n",
        "bits      -      Digital data elements(input bits row vector)\n",
        "Time      -      Time period for sending 1 data elements\n",
        "bit_rate  -      Bit rate(the number of data elements(bits) sent in 1s)\n",
        "Fs        -      Sampling Rate\n",
        "N         -      Bit Length of input bits\n",
        "T         -      Interval of bit time period\n",
        "x         -      Line coding row vector\n",
        "t         -      Time vector for N bits\n",
        "'''\n",
        "\n",
        "\n",
        "Time = 10e-6   \n",
        "bit_rate = 1/Time  \n",
        "Fs = 4*bit_rate    \n",
        "N = len(bits)   \n",
        "T = np.linspace(0,Time, mB * 100)\n",
        "\n",
        "x = np.array([])\n",
        "last_bit = 1\n",
        "for i in range(N):\n",
        "  if bits[i] == 1:\n",
        "    temp = (-1) * last_bit * np.ones(len(T))\n",
        "    last_bit = -last_bit\n",
        "  else:\n",
        "    temp = last_bit * np.ones(len(T))\n",
        "  x = np.append(x, temp)\n",
        "t = np.linspace(0,N*Time,len(x))\n",
        "\n",
        "plt.plot(t, x)\n",
        "plt.show()"
      ],
      "execution_count": 151,
      "outputs": [
        {
          "output_type": "display_data",
          "data": {
            "image/png": "[encoded data removed]",
            "text/plain": [
              "<Figure size 432x288 with 1 Axes>"
            ]
          },
          "metadata": {
            "needs_background": "light"
          }
        }
      ]
    },
    {
      "cell_type": "markdown",
      "metadata": {
        "id": "5IAx4DiuKSgI"
      },
      "source": [
        "**$NRZ-I$ Line Coding Decoding**"
      ]
    },
    {
      "cell_type": "code",
      "metadata": {
        "colab": {
          "base_uri": "https://localhost:8080/"
        },
        "id": "WKlRBSNH3GHA",
        "outputId": "fc8250f0-6be3-48c1-9a81-1165d73167fa"
      },
      "source": [
        "'''\n",
        "x         -       Signal element(Line coding row vector)\n",
        "t         -       Time vector for N bits\n",
        "bit_rate  -       Bit rate(the number of data elements(bits) sent in 1s)\n",
        "result    -       Data element\n",
        "\n",
        "'''\n",
        "result = []\n",
        "counter = 0\n",
        "last_bit = 1\n",
        "for i in range(len(t)):\n",
        "  if t[i]*bit_rate > counter:\n",
        "    counter = counter + 1\n",
        "    if x[i] != last_bit:\n",
        "      result.append(1)\n",
        "      last_bit=-last_bit\n",
        "    else:\n",
        "      result.append(0)\n",
        "\n",
        "print(result)"
      ],
      "execution_count": 152,
      "outputs": [
        {
          "output_type": "stream",
          "name": "stdout",
          "text": [
            "[1, 0, 1, 1, 1, 0, 1, 0, 1, 0, 1, 0, 1, 1, 0]\n"
          ]
        }
      ]
    },
    {
      "cell_type": "markdown",
      "metadata": {
        "id": "ZVHUS1uoKZdv"
      },
      "source": [
        "**$4B/5B$ Decoding**"
      ]
    },
    {
      "cell_type": "code",
      "metadata": {
        "colab": {
          "base_uri": "https://localhost:8080/"
        },
        "id": "u9zwoiNhDTUv",
        "outputId": "c4762b5b-dd1e-4962-ee9e-8724b4fb7c6e"
      },
      "source": [
        "decoded_result = get_NB_MB_Decoding(result, mB, nB)\n",
        "print(decoded_result)"
      ],
      "execution_count": 154,
      "outputs": [
        {
          "output_type": "stream",
          "name": "stdout",
          "text": [
            "[1 0 1 1 0 1 0 0 1 0 1 0]\n"
          ]
        }
      ]
    }
  ]
}
